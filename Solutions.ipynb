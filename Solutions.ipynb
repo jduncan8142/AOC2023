{
 "cells": [
  {
   "cell_type": "code",
   "execution_count": null,
   "metadata": {},
   "outputs": [],
   "source": [
    "# Day 1 Puzzle 1\n",
    "from string import digits\n",
    "\n",
    "with open('day1_input.txt', 'r') as f:\n",
    "    answer: int = 0\n",
    "    numbers: list = []\n",
    "    lines: list[str] = f.readlines()\n",
    "    for i in lines:\n",
    "        number: str = ''.join(x for x in i if x in digits)\n",
    "        numbers.append(int(f\"{number[0]}{number[-1]}\"))\n",
    "    print(numbers)\n",
    "    answer = sum(numbers)\n",
    "    print(f\"{answer=}\")"
   ]
  },
  {
   "cell_type": "code",
   "execution_count": null,
   "metadata": {},
   "outputs": [],
   "source": [
    "# Day 1 Puzzle 2\n",
    "from string import digits\n",
    "\n",
    "with open('day1_input.txt', 'r') as f:\n",
    "    number_words: tuple = (\"one\", \"two\", \"three\", \"four\", \"five\", \"six\", \"seven\", \"eight\", \"nine\")\n",
    "    answer: int = 0\n",
    "    numbers: list = []\n",
    "    lines: list[str] = f.readlines()\n",
    "    for i in lines:\n",
    "        number_string: str = \"\"\n",
    "        tmp: list = []\n",
    "        for c in i:\n",
    "            if c in digits:\n",
    "                tmp = []\n",
    "            tmp.append(c)\n",
    "            if \"\".join(tmp) in number_words:\n",
    "                num = number_words.index(\"\".join(tmp)) + 1\n",
    "                number_string += str(num)\n",
    "                _ = tmp.pop(0)\n",
    "            elif \"\".join(tmp) in digits:\n",
    "                number_string += \"\".join(tmp)\n",
    "                tmp = []\n",
    "            elif \"\".join(tmp).endswith(\"one\"):\n",
    "                number_string += \"1\"\n",
    "                _ = tmp.pop(0)\n",
    "            elif \"\".join(tmp).endswith(\"two\"):\n",
    "                number_string += \"2\"\n",
    "                _ = tmp.pop(0)\n",
    "            elif \"\".join(tmp).endswith(\"three\"):\n",
    "                number_string += \"3\"\n",
    "                _ = tmp.pop(0)\n",
    "            elif \"\".join(tmp).endswith(\"four\"):\n",
    "                number_string += \"4\"\n",
    "                _ = tmp.pop(0)\n",
    "            elif \"\".join(tmp).endswith(\"five\"):\n",
    "                number_string += \"5\"\n",
    "                _ = tmp.pop(0)\n",
    "            elif \"\".join(tmp).endswith(\"six\"):\n",
    "                number_string += \"6\"\n",
    "                _ = tmp.pop(0)\n",
    "            elif \"\".join(tmp).endswith(\"seven\"):\n",
    "                number_string += \"7\"\n",
    "                _ = tmp.pop(0)\n",
    "            elif \"\".join(tmp).endswith(\"eight\"):\n",
    "                number_string += \"8\"\n",
    "                _ = tmp.pop(0)\n",
    "            elif \"\".join(tmp).endswith(\"nine\"):\n",
    "                number_string += \"9\"\n",
    "                _ = tmp.pop(0)\n",
    "        numbers.append(int(f\"{number_string[0]}{number_string[-1]}\"))\n",
    "    print(numbers)\n",
    "    answer = sum(numbers)\n",
    "    print(f\"{answer=}\")\n"
   ]
  }
 ],
 "metadata": {
  "kernelspec": {
   "display_name": "Python 3",
   "language": "python",
   "name": "python3"
  },
  "language_info": {
   "codemirror_mode": {
    "name": "ipython",
    "version": 3
   },
   "file_extension": ".py",
   "mimetype": "text/x-python",
   "name": "python",
   "nbconvert_exporter": "python",
   "pygments_lexer": "ipython3",
   "version": "3.11.0"
  }
 },
 "nbformat": 4,
 "nbformat_minor": 2
}
