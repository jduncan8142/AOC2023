{
 "cells": [
  {
   "cell_type": "code",
   "execution_count": 37,
   "metadata": {},
   "outputs": [
    {
     "name": "stdout",
     "output_type": "stream",
     "text": [
      "Answer = 54573\n"
     ]
    }
   ],
   "source": [
    "# Day 1 Puzzle 1\n",
    "from string import digits\n",
    "\n",
    "with open('day1_input.txt', 'r') as f:\n",
    "    numbers: list = [int(f\"{''.join(x for x in i if x in digits)[0]}{''.join(x for x in i if x in digits)[-1]}\") for i in f.readlines()]\n",
    "    print(f\"Answer = {sum(numbers)}\")"
   ]
  },
  {
   "cell_type": "code",
   "execution_count": 40,
   "metadata": {},
   "outputs": [
    {
     "name": "stdout",
     "output_type": "stream",
     "text": [
      "Answer = 54591\n"
     ]
    }
   ],
   "source": [
    "# Day 1 Puzzle 2\n",
    "from string import digits\n",
    "\n",
    "with open('day1_input.txt', 'r') as f:\n",
    "    number_words: tuple = (\"one\", \"two\", \"three\", \"four\", \"five\", \"six\", \"seven\", \"eight\", \"nine\")\n",
    "    answer: int = 0\n",
    "    numbers: list = []\n",
    "    for i in f.readlines():\n",
    "        number_string: str = \"\"\n",
    "        tmp: list = []\n",
    "        for c in i:\n",
    "            if c in digits:\n",
    "                tmp = []\n",
    "            tmp.append(c)\n",
    "            if \"\".join(tmp) in number_words:\n",
    "                num = number_words.index(\"\".join(tmp)) + 1\n",
    "                number_string += str(num)\n",
    "                _ = tmp.pop(0)\n",
    "            elif \"\".join(tmp) in digits:\n",
    "                number_string += \"\".join(tmp)\n",
    "                tmp = []\n",
    "            elif \"\".join(tmp).endswith(\"one\"):\n",
    "                number_string += \"1\"\n",
    "                _ = tmp.pop(0)\n",
    "            elif \"\".join(tmp).endswith(\"two\"):\n",
    "                number_string += \"2\"\n",
    "                _ = tmp.pop(0)\n",
    "            elif \"\".join(tmp).endswith(\"three\"):\n",
    "                number_string += \"3\"\n",
    "                _ = tmp.pop(0)\n",
    "            elif \"\".join(tmp).endswith(\"four\"):\n",
    "                number_string += \"4\"\n",
    "                _ = tmp.pop(0)\n",
    "            elif \"\".join(tmp).endswith(\"five\"):\n",
    "                number_string += \"5\"\n",
    "                _ = tmp.pop(0)\n",
    "            elif \"\".join(tmp).endswith(\"six\"):\n",
    "                number_string += \"6\"\n",
    "                _ = tmp.pop(0)\n",
    "            elif \"\".join(tmp).endswith(\"seven\"):\n",
    "                number_string += \"7\"\n",
    "                _ = tmp.pop(0)\n",
    "            elif \"\".join(tmp).endswith(\"eight\"):\n",
    "                number_string += \"8\"\n",
    "                _ = tmp.pop(0)\n",
    "            elif \"\".join(tmp).endswith(\"nine\"):\n",
    "                number_string += \"9\"\n",
    "                _ = tmp.pop(0)\n",
    "        numbers.append(int(f\"{number_string[0]}{number_string[-1]}\"))\n",
    "    print(f\"Answer = {sum(numbers)}\")\n"
   ]
  },
  {
   "cell_type": "code",
   "execution_count": 25,
   "metadata": {},
   "outputs": [
    {
     "name": "stdout",
     "output_type": "stream",
     "text": [
      "SUM: 2237\n"
     ]
    }
   ],
   "source": [
    "# Day 2 Puzzle 1\n",
    "\n",
    "\"\"\"\n",
    "Determine which games would have been possible if the bag had been loaded \n",
    "with only:\n",
    "\n",
    "12 red cubes\n",
    "13 green cubes\n",
    "14 blue cubes \n",
    "\n",
    "What is the sum of the IDs of those games?\n",
    "\"\"\"\n",
    "\n",
    "RED: int = 12\n",
    "GREEN: int = 13\n",
    "BLUE: int = 14\n",
    "\n",
    "def dict_sort(d: dict) -> dict:\n",
    "    return dict(sorted(d.items(), key=lambda x: x[1], reverse=True))\n",
    "\n",
    "with open('day2_input.txt', 'r') as f:\n",
    "    games: list[dict] = []\n",
    "    raw_data: list[str] = f.readlines()\n",
    "    for line in  raw_data:\n",
    "        game: dict = {}\n",
    "        _line: list[str] = line.strip(\"\\n\").split(\": \")\n",
    "        _left: int = int(_line[0].split()[1])\n",
    "        _right: list[str] = _line[1].split(\"; \")\n",
    "        _data: list[dict] = []\n",
    "        for i in _right:\n",
    "            _tmp: list[str] = i.split(\", \")\n",
    "            d: dict = {}\n",
    "            for j in _tmp:\n",
    "                k = j.split(\" \")\n",
    "                d[k[1]] = int(k[0])\n",
    "            _data.append(d)\n",
    "        game[_left] = _data\n",
    "        _possible: bool = True\n",
    "        for idx, j in enumerate(_data):\n",
    "            for _color, _count in j.items():\n",
    "                if _color == \"red\":\n",
    "                    if _count > RED:\n",
    "                        _possible = False\n",
    "                elif _color == \"green\":\n",
    "                    if _count > GREEN:\n",
    "                        _possible = False\n",
    "                elif _color == \"blue\":\n",
    "                    if _count > BLUE:\n",
    "                        _possible = False\n",
    "        if _possible:\n",
    "            games.append(game)\n",
    "    _sum: int = 0\n",
    "    for i in games: \n",
    "        for k, v in i.items():\n",
    "            _sum += k\n",
    "    print(f\"SUM OF IDS: {_sum}\")\n"
   ]
  },
  {
   "cell_type": "code",
   "execution_count": 29,
   "metadata": {},
   "outputs": [
    {
     "name": "stdout",
     "output_type": "stream",
     "text": [
      "SUM OF POWERS: 66681\n"
     ]
    }
   ],
   "source": [
    "# Day 2 Puzzle 2\n",
    "\n",
    "\"\"\"\n",
    "The minimum set of cubes is the fewest number of cubes of each color that could have been in the bag to make the game possible\n",
    "\n",
    "The power of a minimum set of cubes is equal to the numbers of red, green, and blue cubes multiplied together.\n",
    "\n",
    "For each game, find the minimum set of cubes that must have been present. \n",
    "\n",
    "What is the sum of the power of these sets?\n",
    "\"\"\"\n",
    "\n",
    "with open('day2_input.txt', 'r') as f:\n",
    "    games: list[dict] = []\n",
    "    raw_data: list[str] = f.readlines()\n",
    "    for line in  raw_data:\n",
    "        game: dict = {}\n",
    "        _line: list[str] = line.strip(\"\\n\").split(\": \")\n",
    "        _left: int = int(_line[0].split()[1])\n",
    "        _right: list[str] = _line[1].split(\"; \")\n",
    "        _data: list[dict] = []\n",
    "        for i in _right:\n",
    "            _tmp: list[str] = i.split(\", \")\n",
    "            d: dict = {}\n",
    "            for j in _tmp:\n",
    "                k = j.split(\" \")\n",
    "                d[k[1]] = int(k[0])\n",
    "            _data.append(d)\n",
    "        # Calculate the minimum set of cubes, game 1 should be 4 red, 10 green, 15 blue\n",
    "        _min_set: dict = {}\n",
    "        for i in _data:\n",
    "            for k, v in i.items():\n",
    "                if k in _min_set:\n",
    "                    if v > _min_set[k]:\n",
    "                        _min_set[k] = v\n",
    "                else:\n",
    "                    _min_set[k] = v\n",
    "        game[_left] = {\"min_set\": _min_set, \"power\": _min_set[\"red\"] * _min_set[\"green\"] * _min_set[\"blue\"], \"data\": _data}\n",
    "        games.append(game)\n",
    "    _sum_of_powers: int = 0\n",
    "    for game in games:\n",
    "        for k, v in game.items():\n",
    "            _sum_of_powers += v[\"power\"]\n",
    "    print(f\"SUM OF POWERS: {_sum_of_powers}\")"
   ]
  },
  {
   "cell_type": "code",
   "execution_count": null,
   "metadata": {},
   "outputs": [],
   "source": [
    "# Day 3 Puzzle 1\n",
    "\n"
   ]
  },
  {
   "cell_type": "code",
   "execution_count": null,
   "metadata": {},
   "outputs": [],
   "source": [
    "# Day 3 Puzzle 2\n",
    "\n"
   ]
  }
 ],
 "metadata": {
  "kernelspec": {
   "display_name": "Python 3",
   "language": "python",
   "name": "python3"
  },
  "language_info": {
   "codemirror_mode": {
    "name": "ipython",
    "version": 3
   },
   "file_extension": ".py",
   "mimetype": "text/x-python",
   "name": "python",
   "nbconvert_exporter": "python",
   "pygments_lexer": "ipython3",
   "version": "3.11.0"
  }
 },
 "nbformat": 4,
 "nbformat_minor": 2
}
